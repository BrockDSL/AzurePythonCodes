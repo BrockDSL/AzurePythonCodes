{
 "cells": [
  {
   "cell_type": "markdown",
   "metadata": {},
   "source": [
    "# Using the Azure Vision API for Image Analysis"
   ]
  },
  {
   "cell_type": "markdown",
   "metadata": {},
   "source": [
    "The Microsoft Computer Vision API is a state-of-the-art service provided by Microsoft through Azure that enables developers to analyze and retrieve information from images in a very simple way and with little code.  This tutorial will walk you through the basics of using the API in python to produce a list of descriptive words that relate to the image you provide."
   ]
  },
  {
   "cell_type": "markdown",
   "metadata": {},
   "source": [
    "### Step 1 - Getting your API Key\n",
    "- Go to https://portal.azure.com and log in to your student account.\n",
    "- Search for \"Computer Vision\" in the menu at the top and select it from the \"Marketplace\" section of results.\n",
    "- Enter a name for your key, leave subscription as \"Azure for Students\", set location to \"(US) West Central US\", set pricing to \"S1\", and either select an existing resource group for your key or make a new one.\n",
    "- Click \"Create\"\n",
    "- Select \"All Resources\" from the left menu and click on the key you created. \n",
    "- Under \"Resource Management\" select \"Keys\" and there are your 2 keys!  Both do the same thing so pick whichever one you like."
   ]
  },
  {
   "cell_type": "markdown",
   "metadata": {},
   "source": [
    "### Step 2 - The Code\n"
   ]
  },
  {
   "cell_type": "markdown",
   "metadata": {},
   "source": [
    "The Python code below takes the URL of an image and processes it using the Computer Vision API.  The results are returned in a JSON format which is then cleaned up a bit and printed out.  Try it out by replacing the text \"IMAGE-URL-GOES-HERE\" with a URL of an image from somewhere on the internet (make sure that it is the images URL, not a webpage).  The function will ask for your API key each time you run it so have it handy to copy and paste into the input field that appears."
   ]
  },
  {
   "cell_type": "code",
   "execution_count": null,
   "metadata": {},
   "outputs": [],
   "source": [
    "def img_analysis(image_url):\n",
    "    import requests\n",
    "    import json\n",
    "    from PIL import Image\n",
    "    from io import BytesIO\n",
    "    \n",
    "    subscription_key = input(\"Enter your API key here: \")\n",
    "    assert subscription_key\n",
    "    vision_base_url = \"https://westcentralus.api.cognitive.microsoft.com/vision/v2.0/\"\n",
    "    # You have use the same region from your subscription key in the above address\n",
    "    \n",
    "    analyze_url = vision_base_url + \"analyze\"\n",
    "    \n",
    "    headers = {'Ocp-Apim-Subscription-Key': subscription_key }\n",
    "    params  = {'visualFeatures': 'Description'}\n",
    "    data    = {'url': image_url}\n",
    "    response = requests.post(analyze_url, headers=headers, params=params, json=data)\n",
    "    response.raise_for_status()\n",
    "    \n",
    "    #The code below cleans up and prints out the JSON\n",
    "    analysis = response.json()\n",
    "    print(json.dumps(response.json()).replace('\"',''))\n",
    "    \n",
    "    \n",
    "\n",
    "img_analysis(\"IMAGE-URL-GOES-HERE\")\n"
   ]
  },
  {
   "cell_type": "markdown",
   "metadata": {},
   "source": [
    "Another way to use this code is to provide an image locally for analysis.  In the code below, replace \"IMAGE-PATH-GOES-HERE\" with the path to the image that you want to analyze.  "
   ]
  },
  {
   "cell_type": "code",
   "execution_count": null,
   "metadata": {},
   "outputs": [],
   "source": [
    "def image_analysis_local(image_path, subscription_key):\n",
    "    import requests\n",
    "    import matplotlib.pyplot as plt\n",
    "    from PIL import Image\n",
    "    from io import BytesIO\n",
    "    \n",
    "    assert subscription_key\n",
    "    \n",
    "    # You have to use the same region from your subscription key in the above address\n",
    "    vision_base_url = \"https://westcentralus.api.cognitive.microsoft.com/vision/v2.0/\"\n",
    "    analyze_url = vision_base_url + \"analyze\"\n",
    "    \n",
    "    image_data = open(image_path, \"rb\").read()\n",
    "    headers    = {'Ocp-Apim-Subscription-Key': subscription_key, 'Content-Type': 'application/octet-stream'}\n",
    "    params     = {'visualFeatures': 'Description'}\n",
    "    response = requests.post(analyze_url, headers=headers, params=params, data=image_data)\n",
    "    response.raise_for_status()\n",
    "    \n",
    "    #The code below prints out the JSON stuff so you can see what gets returned \n",
    "    #and makes up a caption based on the keywords that the tool finds\n",
    "    analysis = response.json()\n",
    "    print(analysis)\n",
    "    image_caption = analysis[\"description\"][\"captions\"][0][\"text\"].capitalize().replace('\"','')\n",
    "    \n",
    "image_analysis_local(\"IMAGE-PATH-GOES-HERE\", input(\"Enter your API key here: \"))"
   ]
  },
  {
   "cell_type": "code",
   "execution_count": null,
   "metadata": {},
   "outputs": [],
   "source": []
  }
 ],
 "metadata": {
  "kernelspec": {
   "display_name": "Python 3",
   "language": "python",
   "name": "python3"
  },
  "language_info": {
   "codemirror_mode": {
    "name": "ipython",
    "version": 3
   },
   "file_extension": ".py",
   "mimetype": "text/x-python",
   "name": "python",
   "nbconvert_exporter": "python",
   "pygments_lexer": "ipython3",
   "version": "3.7.0"
  }
 },
 "nbformat": 4,
 "nbformat_minor": 2
}
