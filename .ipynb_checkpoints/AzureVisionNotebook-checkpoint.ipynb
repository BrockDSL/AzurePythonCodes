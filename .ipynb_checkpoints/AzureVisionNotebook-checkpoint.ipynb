{
 "cells": [
  {
   "cell_type": "markdown",
   "metadata": {},
   "source": [
    "# Using the Azure Vision API for Image Analysis"
   ]
  },
  {
   "cell_type": "markdown",
   "metadata": {},
   "source": [
    "The Microsoft Computer Vision API is a state-of-the-art service provided by Microsoft through Azure that enables developers to analyze and retrieve information from images in a very simple way and with little code.  This tutorial will walk you through the basics of using the API in python to produce a list of descriptive words that relate to the image you provide."
   ]
  },
  {
   "cell_type": "markdown",
   "metadata": {},
   "source": [
    "### Step 1 - Getting your API Key\n",
    "- Go to https://portal.azure.com and log in to your student account.\n",
    "- Search for \"Computer Vision\" in the menu at the top and select it from the \"Marketplace\" section of results.\n",
    "- Enter a name for your key, leave subscription as \"Azure for Students\", set location to \"(US) West Central US\", set pricing to \"S1\", and either select an existing resource group for your key or make a new one.\n",
    "- Click \"Create\"\n",
    "- Select \"All Resources\" from the left menu and click on the key you created. \n",
    "- Under \"Resource Management\" select \"Keys\" and there are your 2 keys!  Both do the same thing so pick whichever one you like."
   ]
  },
  {
   "cell_type": "markdown",
   "metadata": {},
   "source": [
    "### Step 2 - The Code\n"
   ]
  },
  {
   "cell_type": "markdown",
   "metadata": {},
   "source": [
    "The Python code below takes the URL of an image and processes it using the Computer Vision API.  The results are returned in a JSON format which is then cleaned up a bit and printed out.  Try it out by replacing the text \"IMAGE-URL-GOES-HERE\" with a URL of an image from somewhere on the internet (make sure that it is the images URL, not a webpage).  The function will ask for your API key each time you run it so have it handy to copy and paste into the input field that appears."
   ]
  },
  {
   "cell_type": "code",
   "execution_count": 1,
   "metadata": {},
   "outputs": [
    {
     "name": "stdout",
     "output_type": "stream",
     "text": [
      "enter API key756a34329ff1430799aee933df7b91b8\n"
     ]
    },
    {
     "ename": "HTTPError",
     "evalue": "400 Client Error: Bad Request for url: https://westcentralus.api.cognitive.microsoft.com/vision/v2.0/analyze?visualFeatures=Description",
     "output_type": "error",
     "traceback": [
      "\u001b[1;31m---------------------------------------------------------------------------\u001b[0m",
      "\u001b[1;31mHTTPError\u001b[0m                                 Traceback (most recent call last)",
      "\u001b[1;32m<ipython-input-1-bd951ebfc8ef>\u001b[0m in \u001b[0;36m<module>\u001b[1;34m()\u001b[0m\n\u001b[0;32m     24\u001b[0m \u001b[1;33m\u001b[0m\u001b[0m\n\u001b[0;32m     25\u001b[0m \u001b[1;33m\u001b[0m\u001b[0m\n\u001b[1;32m---> 26\u001b[1;33m \u001b[0mimg_analysis\u001b[0m\u001b[1;33m(\u001b[0m\u001b[1;34m\"IMAGE-URL-GOES-HERE\"\u001b[0m\u001b[1;33m)\u001b[0m\u001b[1;33m\u001b[0m\u001b[0m\n\u001b[0m",
      "\u001b[1;32m<ipython-input-1-bd951ebfc8ef>\u001b[0m in \u001b[0;36mimg_analysis\u001b[1;34m(image_url)\u001b[0m\n\u001b[0;32m     16\u001b[0m     \u001b[0mdata\u001b[0m    \u001b[1;33m=\u001b[0m \u001b[1;33m{\u001b[0m\u001b[1;34m'url'\u001b[0m\u001b[1;33m:\u001b[0m \u001b[0mimage_url\u001b[0m\u001b[1;33m}\u001b[0m\u001b[1;33m\u001b[0m\u001b[0m\n\u001b[0;32m     17\u001b[0m     \u001b[0mresponse\u001b[0m \u001b[1;33m=\u001b[0m \u001b[0mrequests\u001b[0m\u001b[1;33m.\u001b[0m\u001b[0mpost\u001b[0m\u001b[1;33m(\u001b[0m\u001b[0manalyze_url\u001b[0m\u001b[1;33m,\u001b[0m \u001b[0mheaders\u001b[0m\u001b[1;33m=\u001b[0m\u001b[0mheaders\u001b[0m\u001b[1;33m,\u001b[0m \u001b[0mparams\u001b[0m\u001b[1;33m=\u001b[0m\u001b[0mparams\u001b[0m\u001b[1;33m,\u001b[0m \u001b[0mjson\u001b[0m\u001b[1;33m=\u001b[0m\u001b[0mdata\u001b[0m\u001b[1;33m)\u001b[0m\u001b[1;33m\u001b[0m\u001b[0m\n\u001b[1;32m---> 18\u001b[1;33m     \u001b[0mresponse\u001b[0m\u001b[1;33m.\u001b[0m\u001b[0mraise_for_status\u001b[0m\u001b[1;33m(\u001b[0m\u001b[1;33m)\u001b[0m\u001b[1;33m\u001b[0m\u001b[0m\n\u001b[0m\u001b[0;32m     19\u001b[0m \u001b[1;33m\u001b[0m\u001b[0m\n\u001b[0;32m     20\u001b[0m     \u001b[1;31m#The code below cleans up and prints out the JSON\u001b[0m\u001b[1;33m\u001b[0m\u001b[1;33m\u001b[0m\u001b[0m\n",
      "\u001b[1;32mC:\\ProgramData\\Anaconda3\\lib\\site-packages\\requests\\models.py\u001b[0m in \u001b[0;36mraise_for_status\u001b[1;34m(self)\u001b[0m\n\u001b[0;32m    937\u001b[0m \u001b[1;33m\u001b[0m\u001b[0m\n\u001b[0;32m    938\u001b[0m         \u001b[1;32mif\u001b[0m \u001b[0mhttp_error_msg\u001b[0m\u001b[1;33m:\u001b[0m\u001b[1;33m\u001b[0m\u001b[0m\n\u001b[1;32m--> 939\u001b[1;33m             \u001b[1;32mraise\u001b[0m \u001b[0mHTTPError\u001b[0m\u001b[1;33m(\u001b[0m\u001b[0mhttp_error_msg\u001b[0m\u001b[1;33m,\u001b[0m \u001b[0mresponse\u001b[0m\u001b[1;33m=\u001b[0m\u001b[0mself\u001b[0m\u001b[1;33m)\u001b[0m\u001b[1;33m\u001b[0m\u001b[0m\n\u001b[0m\u001b[0;32m    940\u001b[0m \u001b[1;33m\u001b[0m\u001b[0m\n\u001b[0;32m    941\u001b[0m     \u001b[1;32mdef\u001b[0m \u001b[0mclose\u001b[0m\u001b[1;33m(\u001b[0m\u001b[0mself\u001b[0m\u001b[1;33m)\u001b[0m\u001b[1;33m:\u001b[0m\u001b[1;33m\u001b[0m\u001b[0m\n",
      "\u001b[1;31mHTTPError\u001b[0m: 400 Client Error: Bad Request for url: https://westcentralus.api.cognitive.microsoft.com/vision/v2.0/analyze?visualFeatures=Description"
     ]
    }
   ],
   "source": [
    "def img_analysis(image_url):\n",
    "    import requests\n",
    "    import json\n",
    "    from PIL import Image\n",
    "    from io import BytesIO\n",
    "    \n",
    "    subscription_key = input(\"enter API key\")\n",
    "    assert subscription_key\n",
    "    vision_base_url = \"https://westcentralus.api.cognitive.microsoft.com/vision/v2.0/\"\n",
    "    # You have use the same region from your subscription key in the above address\n",
    "    \n",
    "    analyze_url = vision_base_url + \"analyze\"\n",
    "    \n",
    "    headers = {'Ocp-Apim-Subscription-Key': subscription_key }\n",
    "    params  = {'visualFeatures': 'Description'}\n",
    "    data    = {'url': image_url}\n",
    "    response = requests.post(analyze_url, headers=headers, params=params, json=data)\n",
    "    response.raise_for_status()\n",
    "    \n",
    "    #The code below cleans up and prints out the JSON\n",
    "    analysis = response.json()\n",
    "    print(json.dumps(response.json()).replace('\"',''))\n",
    "    \n",
    "    \n",
    "\n",
    "img_analysis(\"https://www.wonderplugin.com/videos/demo-image0.jpg\")\n"
   ]
  },
  {
   "cell_type": "code",
   "execution_count": null,
   "metadata": {},
   "outputs": [],
   "source": []
  }
 ],
 "metadata": {
  "kernelspec": {
   "display_name": "Python 3",
   "language": "python",
   "name": "python3"
  },
  "language_info": {
   "codemirror_mode": {
    "name": "ipython",
    "version": 3
   },
   "file_extension": ".py",
   "mimetype": "text/x-python",
   "name": "python",
   "nbconvert_exporter": "python",
   "pygments_lexer": "ipython3",
   "version": "3.7.0"
  }
 },
 "nbformat": 4,
 "nbformat_minor": 2
}
