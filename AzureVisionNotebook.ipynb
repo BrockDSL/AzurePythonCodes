{
 "cells": [
  {
   "cell_type": "code",
   "execution_count": 2,
   "metadata": {},
   "outputs": [
    {
     "name": "stdout",
     "output_type": "stream",
     "text": [
      "I am running!!! doobly doo!!!\n"
     ]
    }
   ],
   "source": [
    "print(\"I am running!!! doobly doo!!!\")\n",
    "\n",
    "def img_analysis():\n",
    "    import requests\n",
    "    import matplotlib.pyplot as plt\n",
    "    import json\n",
    "    from PIL import Image\n",
    "    from io import BytesIO\n",
    "    \n",
    "    subscription_key = \"INSERT-KEY-HERE\"\n",
    "    assert subscription_key\n",
    "    vision_base_url = \"https://westcentralus.api.cognitive.microsoft.com/vision/v2.0/\"\n",
    "    # You have use the same region from your subscription key in the above address\n",
    "    analyze_url = vision_base_url + \"analyze\"\n",
    "    \n",
    "    image_url = input(\"Paste an image URL here :\")\n",
    "    \n",
    "    headers = {'Ocp-Apim-Subscription-Key': subscription_key }\n",
    "    params  = {'visualFeatures': 'Categories,Description,Color'}\n",
    "    data    = {'url': image_url}\n",
    "    response = requests.post(analyze_url, headers=headers, params=params, json=data)\n",
    "    response.raise_for_status()\n",
    "    \n",
    "    #The code below prints out the JSON stuff so you can see what gets returned \n",
    "    #and makes up a caption based on the keywords that the tool finds\n",
    "    analysis = response.json()\n",
    "    print(json.dumps(response.json()))\n",
    "    image_caption = analysis[\"description\"][\"captions\"][0][\"text\"].capitalize()\n",
    "    \n",
    "    # Display the image and the above mentioned caption.\n",
    "    image = Image.open(BytesIO(requests.get(image_url).content))\n",
    "    plt.imshow(image)\n",
    "    plt.axis(\"off\")\n",
    "    _ = plt.title(image_caption, size=\"x-large\", y=-0.1)\n",
    "    plt.show()"
   ]
  },
  {
   "cell_type": "code",
   "execution_count": 3,
   "metadata": {},
   "outputs": [],
   "source": [
    "def img_analysis_flex(image_urlish):\n",
    "    import requests\n",
    "    import matplotlib.pyplot as plt\n",
    "    import json\n",
    "    from PIL import Image\n",
    "    from io import BytesIO\n",
    "    \n",
    "    subscription_key = \"INSERT-KEY-HERE\"\n",
    "    assert subscription_key\n",
    "    vision_base_url = \"https://westcentralus.api.cognitive.microsoft.com/vision/v2.0/\"\n",
    "    # You have use the same region from your subscription key in the above address\n",
    "    analyze_url = vision_base_url + \"analyze\"\n",
    "    \n",
    "    image_url = image_urlish\n",
    "    \n",
    "    headers = {'Ocp-Apim-Subscription-Key': subscription_key }\n",
    "    params  = {'visualFeatures': 'Categories,Description,Color'}\n",
    "    data    = {'url': image_url}\n",
    "    response = requests.post(analyze_url, headers=headers, params=params, json=data)\n",
    "    response.raise_for_status()\n",
    "    \n",
    "    #The code below prints out the JSON stuff so you can see what gets returned \n",
    "    #and makes up a caption based on the keywords that the tool finds\n",
    "    analysis = response.json()\n",
    "    print(json.dumps(response.json()))\n",
    "    image_caption = analysis[\"description\"][\"captions\"][0][\"text\"].capitalize()\n",
    "    \n",
    "    # Display the image and the above mentioned caption.\n",
    "    image = Image.open(BytesIO(requests.get(image_url).content))\n",
    "    plt.imshow(image)\n",
    "    plt.axis(\"off\")\n",
    "    _ = plt.title(image_caption, size=\"x-large\", y=-0.1)\n",
    "    plt.show()"
   ]
  },
  {
   "cell_type": "code",
   "execution_count": null,
   "metadata": {},
   "outputs": [],
   "source": [
    "img_analysis()"
   ]
  },
  {
   "cell_type": "code",
   "execution_count": null,
   "metadata": {},
   "outputs": [],
   "source": [
    "img_analysis_flex()"
   ]
  },
  {
   "cell_type": "code",
   "execution_count": null,
   "metadata": {},
   "outputs": [],
   "source": []
  }
 ],
 "metadata": {
  "kernelspec": {
   "display_name": "Python 3",
   "language": "python",
   "name": "python3"
  },
  "language_info": {
   "codemirror_mode": {
    "name": "ipython",
    "version": 3
   },
   "file_extension": ".py",
   "mimetype": "text/x-python",
   "name": "python",
   "nbconvert_exporter": "python",
   "pygments_lexer": "ipython3",
   "version": "3.7.0"
  }
 },
 "nbformat": 4,
 "nbformat_minor": 2
}
